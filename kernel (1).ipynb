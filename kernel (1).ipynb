{
  "cells": [
    {
      "metadata": {
        "_uuid": "8f2839f25d086af736a60e9eeb907d3b93b6e0e5",
        "_cell_guid": "b1076dfc-b9ad-4769-8c92-a6c4dae69d19",
        "trusted": true
      },
      "cell_type": "code",
      "source": "# This Python 3 environment comes with many helpful analytics libraries installed\n# It is defined by the kaggle/python docker image: https://github.com/kaggle/docker-python\n# For example, here's several helpful packages to load in \n\nimport numpy as np # linear algebra\nimport pandas as pd # data processing, CSV file I/O (e.g. pd.read_csv)\n\n# Input data files are available in the \"../input/\" directory.\n# For example, running this (by clicking run or pressing Shift+Enter) will list the files in the input directory\n\nimport os\n\nfrom matplotlib import pyplot as plt\nimport keras\n\n# Any results you write to the current directory are saved as output.",
      "execution_count": null,
      "outputs": []
    },
    {
      "metadata": {
        "trusted": true,
        "_uuid": "f8429415afc0e30418351bfa177775e63fdcdfcf"
      },
      "cell_type": "code",
      "source": "print(os.listdir(\"../input/pulsar-classification\"))",
      "execution_count": null,
      "outputs": []
    },
    {
      "metadata": {
        "trusted": true,
        "_uuid": "4dcdde01c0f2b22eead63c96d8faba60d09dcf70"
      },
      "cell_type": "code",
      "source": "",
      "execution_count": null,
      "outputs": []
    },
    {
      "metadata": {
        "_cell_guid": "79c7e3d0-c299-4dcb-8224-4455121ee9b0",
        "_uuid": "d629ff2d2480ee46fbb7e2d37f6b5fab8052498a",
        "trusted": true
      },
      "cell_type": "code",
      "source": "orig_dataset = pd.read_csv('../input/pulsar-classification/Train.csv')\nprint(orig_dataset.head())\nfinal_dataset = pd.read_csv('../input/pulsar-classification/Test.csv')\nprint(final_dataset.head())",
      "execution_count": null,
      "outputs": []
    },
    {
      "metadata": {
        "trusted": true,
        "_uuid": "cc049bb219d036d81b82362d67b0f626d9f99a33"
      },
      "cell_type": "code",
      "source": "orig_dataset['Pulsar'].value_counts().plot(kind = 'pie', title = 'Count (Pulsar)')\nplt.show()",
      "execution_count": null,
      "outputs": []
    },
    {
      "metadata": {
        "trusted": true,
        "_uuid": "7888399ba5061670a9518745cea1520c635baebb"
      },
      "cell_type": "code",
      "source": "train_X = np.array(orig_dataset.iloc[:, 0:-1])\ntrain_Y = np.array(orig_dataset.iloc[:, -1])\nfinal_X = np.array(final_dataset.iloc[:,:])",
      "execution_count": null,
      "outputs": []
    },
    {
      "metadata": {
        "trusted": true,
        "_uuid": "ba83870f861a51fafe9da7565806f1029ab1ce16"
      },
      "cell_type": "code",
      "source": "from imblearn.over_sampling import RandomOverSampler\n\nX = train_X.copy()\nY = train_Y.copy()\n\nros = RandomOverSampler()\nX, Y = ros.fit_sample(X, Y)\n\nY = Y.reshape(-1,1)\n\nprint(X.shape)\nprint(Y.shape)",
      "execution_count": null,
      "outputs": []
    },
    {
      "metadata": {
        "trusted": true,
        "_uuid": "84643b72689670defb950bd134187e8929cab5b5"
      },
      "cell_type": "code",
      "source": "train_X=X\ntrain_Y=Y\nprint(train_X.shape)\nprint(train_Y.shape)\nprint(final_X.shape)",
      "execution_count": null,
      "outputs": []
    },
    {
      "metadata": {
        "trusted": true,
        "_uuid": "a11a4cba76d80e72f574018df917e709dbe94e0c"
      },
      "cell_type": "code",
      "source": "from imblearn.over_sampling import RandomOverSampler\n\nX = train_X.copy()\nY = train_Y.copy()\n\nros = RandomOverSampler()\nX, Y = ros.fit_sample(X, Y)\n\nY = Y.reshape(-1,1)\n\nprint(X.shape)\nprint(Y.shape)",
      "execution_count": null,
      "outputs": []
    },
    {
      "metadata": {
        "trusted": true,
        "_uuid": "b7202e644e4383f57b12540e67e97c83d4b3dcc8"
      },
      "cell_type": "code",
      "source": "df = pd.DataFrame(Y)\ndf.columns=['Pulsar']\ndf.Pulsar.value_counts().plot(kind='pie', title = 'Count')\nplt.show()\ntrain_X = X\ntrain_Y = Y",
      "execution_count": null,
      "outputs": []
    },
    {
      "metadata": {
        "trusted": true,
        "_uuid": "a873b7458481076bbe8a05e112b7bf2b654d6a96"
      },
      "cell_type": "code",
      "source": "#splitting the dataset\nfrom sklearn.model_selection import StratifiedShuffleSplit\n\nstratified_split = StratifiedShuffleSplit(n_splits = 2, random_state = 0, test_size = 0.05)\n\nfor train_index, test_index in stratified_split.split(train_X, train_Y):\n    X_train, X_test = train_X[train_index], train_X[test_index]\n    Y_train, Y_test = train_Y[train_index], train_Y[test_index]",
      "execution_count": null,
      "outputs": []
    },
    {
      "metadata": {
        "trusted": true,
        "_uuid": "563af7ff0094a61569b3e9f58987d61e06a1c2d2"
      },
      "cell_type": "code",
      "source": "print(X_train.shape)\nprint(X_test.shape)\nprint(Y_train.shape)\nprint(Y_test.shape)",
      "execution_count": null,
      "outputs": []
    },
    {
      "metadata": {
        "trusted": true,
        "_uuid": "72aa7530a4b4d929957df0619bb415c3686451ef"
      },
      "cell_type": "code",
      "source": "from sklearn.preprocessing import StandardScaler\n\nstd_sclr = StandardScaler()\nX_train = std_sclr.fit_transform(X_train)\nX_test = std_sclr.fit_transform(X_test)",
      "execution_count": null,
      "outputs": []
    },
    {
      "metadata": {
        "trusted": true,
        "_uuid": "c779ee23cc5cb32da73336e67fd546de084f91a5"
      },
      "cell_type": "code",
      "source": "X_train = X_train.T\nY_train = Y_train.reshape(-1, 1).T\n\nX_test = X_test.T\nY_test = Y_test.reshape(-1, 1).T\n\nprint(\"X_train shape:\", X_train.shape)\nprint(\"Y_train shape:\", Y_train.shape)\n\nprint(\"X_test shape:\", X_test.shape)\nprint(\"Y_test shape:\", Y_test.shape)",
      "execution_count": null,
      "outputs": []
    },
    {
      "metadata": {
        "trusted": true,
        "_uuid": "695a3de448962419059c7c4c58507d489eb50cfe"
      },
      "cell_type": "code",
      "source": "new_x_train = X_train.copy().T\nnew_y_train = Y_train.copy().T\nnew_x_test = X_test.copy().T\nnew_y_test = Y_test.copy().T",
      "execution_count": null,
      "outputs": []
    },
    {
      "metadata": {
        "trusted": true,
        "_uuid": "77a40dea990a67484230e919316581a50ba158fa"
      },
      "cell_type": "code",
      "source": "print(new_x_train.shape)\nprint(new_y_train.shape)\nprint(new_x_test.shape)\nprint(new_y_test.shape)",
      "execution_count": null,
      "outputs": []
    },
    {
      "metadata": {
        "trusted": true,
        "_uuid": "3a98963adb2c94203855c156c60a046b2eb19558"
      },
      "cell_type": "code",
      "source": "def build_keras_model():\n    model = keras.models.Sequential()\n    model.add(keras.layers.Dense(4, activation = 'relu', input_shape = (new_x_train.shape[1],)))\n    \n    model.add(keras.layers.Dense(128, activation = 'relu',))\n    \n    model.add(keras.layers.Dense(128, activation = 'relu',))\n    \n    model.add(keras.layers.Dense(64, activation = 'relu',))\n    \n    model.add(keras.layers.Dense(64, activation = 'relu',))\n    \n    model.add(keras.layers.Dense(32, activation = 'relu',))\n    \n    model.add(keras.layers.Dense(32, activation = 'relu'))\n    \n    model.add(keras.layers.Dense(1, activation = 'sigmoid'))\n    \n    model.compile(optimizer = 'adam', loss = 'binary_crossentropy', metrics = ['acc'])\n    \n    return model",
      "execution_count": null,
      "outputs": []
    },
    {
      "metadata": {
        "trusted": true,
        "_uuid": "63e59b69a3fa952b5899a8f20fdc86096534e8d6"
      },
      "cell_type": "code",
      "source": "model = build_keras_model()\nmodel.summary()",
      "execution_count": null,
      "outputs": []
    },
    {
      "metadata": {
        "trusted": true,
        "_uuid": "13660645e280f728040679840a8f1245c90daa1f"
      },
      "cell_type": "code",
      "source": "callbacks = [keras.callbacks.EarlyStopping(monitor = 'loss', patience = 3, restore_best_weights = True)]",
      "execution_count": null,
      "outputs": []
    },
    {
      "metadata": {
        "trusted": true,
        "_uuid": "cd5884d0fd4095c0c78a75c0998b3adfc88f6764"
      },
      "cell_type": "code",
      "source": "history = model.fit(new_x_train, new_y_train, epochs = 1000, callbacks = callbacks)",
      "execution_count": null,
      "outputs": []
    },
    {
      "metadata": {
        "trusted": true,
        "_uuid": "caeab16a09aea3002d9ab6e37a3da14fa1aa2917"
      },
      "cell_type": "code",
      "source": "new_preds = model.predict(new_x_test)\n\ndef find_accuracy(prediction_array, data_array):\n    l=0\n    for i in prediction_array:\n        if i>=0.5:\n            prediction_array[l]=1\n        else:\n            prediction_array[l]=0\n        l=l+1\n    j=0\n    \n    j = np.sum(prediction_array==data_array)\n    print(j)\n    return (j*100)/(int(prediction_array.shape[0]))\n    ",
      "execution_count": null,
      "outputs": []
    },
    {
      "metadata": {
        "trusted": true,
        "_uuid": "cc300af3a0adf76e875897863c667f617ca6d7cd"
      },
      "cell_type": "code",
      "source": "print(new_preds.shape)\nprint(new_y_test.shape)\nprint(\"Accuracy: \" + str(find_accuracy(new_preds, new_y_test)))",
      "execution_count": null,
      "outputs": []
    },
    {
      "metadata": {
        "trusted": true,
        "_uuid": "1d2b027eb4bfe2b8dbb3cdac3b2669e6814f6796"
      },
      "cell_type": "code",
      "source": "print(os.listdir(\"../input/predicting-a-pulsar-star\"))",
      "execution_count": null,
      "outputs": []
    },
    {
      "metadata": {
        "trusted": true,
        "_uuid": "3cd4781d852efb0efda0f82cd64939fd7e418d06"
      },
      "cell_type": "code",
      "source": "#testing\ntest_dataset = pd.read_csv('../input/predicting-a-pulsar-star/pulsar_stars.csv')\ntest_dataset.shape",
      "execution_count": null,
      "outputs": []
    },
    {
      "metadata": {
        "trusted": true,
        "_uuid": "b473d4f42fa473303fd8b447aeae4ef2acb5cf48"
      },
      "cell_type": "code",
      "source": "test_x = np.array(test_dataset.iloc[:,0:-1])\ntest_y = np.array(test_dataset.iloc[:,-1])",
      "execution_count": null,
      "outputs": []
    },
    {
      "metadata": {
        "trusted": true,
        "_uuid": "775ff2c44629c209831f7f599974bfe841d81957"
      },
      "cell_type": "code",
      "source": "print(test_x.shape)\nprint(test_y.shape)",
      "execution_count": null,
      "outputs": []
    },
    {
      "metadata": {
        "trusted": true,
        "_uuid": "9d1488601f547f4a5674a077b3529a54f366dd67"
      },
      "cell_type": "code",
      "source": "test_pred = model.predict(test_x)",
      "execution_count": null,
      "outputs": []
    },
    {
      "metadata": {
        "trusted": true,
        "_uuid": "1404ed6ca07da91af2a08aef97d2a695d0d608ff"
      },
      "cell_type": "code",
      "source": "print(test_pred.shape)\ntest_y = test_y.reshape(-1,1)\nprint(test_y.shape)\nprint(\"Accuracy : \" + str(find_accuracy(test_pred, test_y)))",
      "execution_count": null,
      "outputs": []
    },
    {
      "metadata": {
        "trusted": true,
        "_uuid": "3f17a6ffd93b3d0e3ecb94cf9a87024576868d52"
      },
      "cell_type": "code",
      "source": "final = model.predict(final_X)\nl=0\nfor i in final:\n    if i>=0.5:\n        final[l]=1\n    else:\n        final[l]=0\nf = np.zeros((final.shape[0]))\np=0\nwhile p<5370:\n    f[p]=p+1\n    p=p+1\nprint(f.shape)\nf=f.reshape(-1,1)\nprint(f.shape)\nprint(final.shape)\n",
      "execution_count": null,
      "outputs": []
    },
    {
      "metadata": {
        "trusted": true,
        "_uuid": "e1b2a609f127daf218b799cc6ff131ed93a05328"
      },
      "cell_type": "code",
      "source": "s = np.concatenate((f,final), axis=1)\npd.DataFrame(s).to_csv(\"Predictions.csv\", header=['Id', 'Predictions'], index=None)\nprint(\"Done\")\n    ",
      "execution_count": null,
      "outputs": []
    },
    {
      "metadata": {
        "trusted": true,
        "_uuid": "c27dc3fa1b382435ee221885fcef84cade02732c"
      },
      "cell_type": "code",
      "source": "",
      "execution_count": null,
      "outputs": []
    },
    {
      "metadata": {
        "trusted": true,
        "_uuid": "c4f8278db76b35e2aa2c6bcf1a0b2ce982634ffa"
      },
      "cell_type": "code",
      "source": "",
      "execution_count": null,
      "outputs": []
    }
  ],
  "metadata": {
    "kernelspec": {
      "display_name": "Python 3",
      "language": "python",
      "name": "python3"
    },
    "language_info": {
      "name": "python",
      "version": "3.6.6",
      "mimetype": "text/x-python",
      "codemirror_mode": {
        "name": "ipython",
        "version": 3
      },
      "pygments_lexer": "ipython3",
      "nbconvert_exporter": "python",
      "file_extension": ".py"
    }
  },
  "nbformat": 4,
  "nbformat_minor": 1
}